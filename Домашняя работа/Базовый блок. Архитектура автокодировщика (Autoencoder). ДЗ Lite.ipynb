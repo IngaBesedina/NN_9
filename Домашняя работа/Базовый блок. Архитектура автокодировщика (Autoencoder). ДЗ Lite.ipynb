{
  "nbformat": 4,
  "nbformat_minor": 0,
  "metadata": {
    "colab": {
      "provenance": []
    },
    "kernelspec": {
      "name": "python3",
      "display_name": "Python 3"
    },
    "language_info": {
      "name": "python"
    },
    "accelerator": "GPU"
  },
  "cells": [
    {
      "cell_type": "markdown",
      "metadata": {
        "id": "m7P2yp9kjmZ5"
      },
      "source": [
        "## Задание"
      ]
    },
    {
      "cell_type": "markdown",
      "metadata": {
        "id": "9UoGI9SFjxJz"
      },
      "source": [
        "Добейтесь на автокодировщике с 2-мерным скрытым пространством на 3-х цифрах: 0, 1 и 3 – ошибки MSE**<0.034** на скорости обучения **0.001** на **10-й эпохе**."
      ]
    },
    {
      "cell_type": "markdown",
      "metadata": {
        "id": "yKw1Ue4isVKR"
      },
      "source": [
        "## Импорт библиотек\n"
      ]
    },
    {
      "cell_type": "code",
      "metadata": {
        "id": "AJ1YEeUvoo-9"
      },
      "source": [
        "# Работа с операционной системой\n",
        "import os\n",
        "\n",
        "# Отрисовка графиков\n",
        "import matplotlib.pyplot as plt\n",
        "\n",
        "# Операции с путями\n",
        "import glob\n",
        "\n",
        "# Работа с массивами данных\n",
        "import numpy as np\n",
        "\n",
        "# Слои\n",
        "from tensorflow.keras.layers import Dense, Flatten, Reshape, Input, Conv2DTranspose, concatenate, Activation, MaxPooling2D, Conv2D, BatchNormalization, Concatenate\n",
        "\n",
        "# Модель\n",
        "from tensorflow.keras import Model\n",
        "\n",
        "# Загрузка модели\n",
        "from tensorflow.keras.models import load_model\n",
        "\n",
        "# Датасет\n",
        "from tensorflow.keras.datasets import mnist\n",
        "\n",
        "# Оптимизатор для обучения модели\n",
        "from tensorflow.keras.optimizers import Adam\n",
        "\n",
        "# Коллбэки для выдачи информации в процессе обучения\n",
        "from tensorflow.keras.callbacks import LambdaCallback\n",
        "\n",
        "%matplotlib inline"
      ],
      "execution_count": null,
      "outputs": []
    },
    {
      "cell_type": "markdown",
      "metadata": {
        "id": "1RdbnmJikln_"
      },
      "source": [
        "## Утилиты"
      ]
    },
    {
      "cell_type": "markdown",
      "metadata": {
        "id": "FrJVNgFlkqFX"
      },
      "source": [
        "Функция-коллбэк. Отрисовывает объекты в скрытом пространстве"
      ]
    },
    {
      "cell_type": "code",
      "metadata": {
        "id": "PnA5WaYMknmM"
      },
      "source": [
        "def ae_on_epoch_end(epoch, logs):\n",
        "    print('________________________')\n",
        "    print(f'*** ЭПОХА: {epoch+1}, loss: {logs[\"loss\"]} ***')\n",
        "    print('________________________')\n",
        "\n",
        "    # Получение картинки латентного пространства в конце эпохи и запись в файл\n",
        "    # Задание числа пикселей на дюйм\n",
        "    plt.figure(dpi=100)\n",
        "\n",
        "    # Предсказание енкодера на тренировочной выборке\n",
        "    predict = encoder.predict(X_train)\n",
        "\n",
        "    # Создание рисунка: множество точек на плоскости 3-х цветов (3-х классов)\n",
        "    scatter = plt.scatter(predict[:,0,],predict[:,1], c=y_train, alpha=0.6, s=5)\n",
        "\n",
        "    # Создание легенды\n",
        "    legend2 = plt.legend(*scatter.legend_elements(), loc='upper right', title='Классы')\n",
        "\n",
        "    # Сохранение картинки с названием, которого еще нет\n",
        "    paths = glob.glob('*.jpg')\n",
        "    plt.savefig(f'image_{str(len(paths))}.jpg')\n",
        "\n",
        "    # Отображение. Без него рисунок не отрисуется\n",
        "    plt.show()\n",
        "\n",
        "\n",
        "ae_callback = LambdaCallback(on_epoch_end=ae_on_epoch_end)"
      ],
      "execution_count": null,
      "outputs": []
    },
    {
      "cell_type": "markdown",
      "metadata": {
        "id": "EBOOgDVVmLOT"
      },
      "source": [
        "Удаление изображений. Применять при обучении новой модели, чтобы не было путаницы в картинках."
      ]
    },
    {
      "cell_type": "code",
      "metadata": {
        "id": "Gk1Dh-cemKui"
      },
      "source": [
        "def clean():\n",
        "  # Получение названий всех картинок\n",
        "  paths = glob.glob('*.jpg')\n",
        "\n",
        "  # Удаление всех картинок по полученным путям\n",
        "  for p in paths:\n",
        "    os.remove(p)\n",
        "\n",
        "# Удаление всех картинок\n",
        "clean()"
      ],
      "execution_count": null,
      "outputs": []
    },
    {
      "cell_type": "markdown",
      "metadata": {
        "id": "xnDHyOnwl8L3"
      },
      "source": [
        "## Загрузка данных"
      ]
    },
    {
      "cell_type": "code",
      "metadata": {
        "id": "W_DYB7N2l9s7",
        "colab": {
          "base_uri": "https://localhost:8080/"
        },
        "outputId": "827cdbd6-6ea6-4eba-cd6c-a2b4f431d1ee"
      },
      "source": [
        "# Загрузка датасета\n",
        "(X_train, y_train), (X_test, y_test) = mnist.load_data()"
      ],
      "execution_count": null,
      "outputs": [
        {
          "output_type": "stream",
          "name": "stdout",
          "text": [
            "Downloading data from https://storage.googleapis.com/tensorflow/tf-keras-datasets/mnist.npz\n",
            "11493376/11490434 [==============================] - 0s 0us/step\n",
            "11501568/11490434 [==============================] - 0s 0us/step\n"
          ]
        }
      ]
    },
    {
      "cell_type": "code",
      "metadata": {
        "id": "l8IRc3cyP4kE"
      },
      "source": [
        "# Нормировка\n",
        "X_train = X_train.astype('float32')/255.\n",
        "X_train = X_train.reshape(-1, 28, 28, 1)"
      ],
      "execution_count": null,
      "outputs": []
    },
    {
      "cell_type": "code",
      "metadata": {
        "id": "4gRfhxyWP3MC"
      },
      "source": [
        "# Выбор визуализируемых классов (цифр) и формирование подвыборок для них по маске\n",
        "numbers = [0, 1, 3]\n",
        "mask = np.array([(i in numbers) for i in y_train])\n",
        "X_train = X_train[mask]\n",
        "y_train = y_train[mask]"
      ],
      "execution_count": null,
      "outputs": []
    },
    {
      "cell_type": "markdown",
      "metadata": {
        "id": "iSX3HUlUmBck"
      },
      "source": [
        "## Создание модели и обучение"
      ]
    },
    {
      "cell_type": "code",
      "metadata": {
        "id": "mkiC2vJcl-0c"
      },
      "source": [
        "# Ваше решение"
      ],
      "execution_count": null,
      "outputs": []
    }
  ]
}