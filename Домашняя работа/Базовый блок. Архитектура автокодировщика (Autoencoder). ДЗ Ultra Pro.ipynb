{
  "nbformat": 4,
  "nbformat_minor": 0,
  "metadata": {
    "colab": {
      "provenance": []
    },
    "kernelspec": {
      "name": "python3",
      "display_name": "Python 3"
    },
    "language_info": {
      "name": "python"
    },
    "accelerator": "GPU"
  },
  "cells": [
    {
      "cell_type": "markdown",
      "metadata": {
        "id": "ywoRx_0m6Y17"
      },
      "source": [
        "## Задание\n",
        "\n",
        "Создайте автокодировщик, удаляющий черные квадраты в случайных областях изображений.\n",
        "\n",
        "Алгоритм действий:\n",
        "1. Возьмите базу картинок Mnist.\n",
        "2. На картинках в случайных местах сделайте чёрные квадраты размера 8 на 8.\n",
        "3. Создайте и обучите автокодировщик восстанавливать оригинальные изображения из \"зашумленных\" квадратом изображений.\n",
        "4. Добейтесь MSE < 0.0070 на тестовой выборке"
      ]
    },
    {
      "cell_type": "markdown",
      "metadata": {
        "id": "1qFUlKC1884a"
      },
      "source": [
        "## Импорт библиотек"
      ]
    },
    {
      "cell_type": "code",
      "metadata": {
        "id": "DvUAFGSD6SHe"
      },
      "source": [
        "# Отображение\n",
        "import matplotlib.pyplot as plt\n",
        "\n",
        "# Для работы с тензорами\n",
        "import numpy as np\n",
        "\n",
        "# Класс создания модели\n",
        "from tensorflow.keras.models import Model\n",
        "\n",
        "# Для загрузки данных\n",
        "from tensorflow.keras.datasets import mnist\n",
        "\n",
        "# Необходимые слои\n",
        "from tensorflow.keras.layers import Input, Conv2DTranspose, MaxPooling2D, Conv2D, BatchNormalization\n",
        "\n",
        "# Оптимизатор\n",
        "from tensorflow.keras.optimizers import Adam"
      ],
      "execution_count": null,
      "outputs": []
    },
    {
      "cell_type": "markdown",
      "metadata": {
        "id": "GeLAvneZ9GX3"
      },
      "source": [
        "## Данные"
      ]
    },
    {
      "cell_type": "code",
      "metadata": {
        "id": "HI8GBAUZ9F-T",
        "colab": {
          "base_uri": "https://localhost:8080/"
        },
        "outputId": "935fe0c8-8ad7-4ac8-b77e-fa4b470e14fe"
      },
      "source": [
        "# Загрузка данных\n",
        "(X_train, y_train), (X_test, y_test) = mnist.load_data()"
      ],
      "execution_count": null,
      "outputs": [
        {
          "output_type": "stream",
          "name": "stdout",
          "text": [
            "Downloading data from https://storage.googleapis.com/tensorflow/tf-keras-datasets/mnist.npz\n",
            "11493376/11490434 [==============================] - 0s 0us/step\n",
            "11501568/11490434 [==============================] - 0s 0us/step\n"
          ]
        }
      ]
    },
    {
      "cell_type": "code",
      "metadata": {
        "id": "OWwvDBiS9Jcx"
      },
      "source": [
        "# Нормировка данных\n",
        "X_train = X_train.astype('float32')/255.\n",
        "X_test = X_test.astype('float32')/255."
      ],
      "execution_count": null,
      "outputs": []
    },
    {
      "cell_type": "code",
      "metadata": {
        "id": "z8tWtOfV9LCd"
      },
      "source": [
        "# Изменение формы под удобную для Keras\n",
        "X_train = X_train.reshape((-1, 28, 28, 1))\n",
        "X_test = X_test.reshape((-1, 28, 28, 1))"
      ],
      "execution_count": null,
      "outputs": []
    },
    {
      "cell_type": "code",
      "metadata": {
        "id": "ZoIMK8sV9RDC"
      },
      "source": [
        "# Ваше решение"
      ],
      "execution_count": null,
      "outputs": []
    }
  ]
}