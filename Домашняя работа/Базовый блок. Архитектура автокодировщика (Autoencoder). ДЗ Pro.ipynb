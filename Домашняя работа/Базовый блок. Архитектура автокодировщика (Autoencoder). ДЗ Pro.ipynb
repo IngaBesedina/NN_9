{
  "nbformat": 4,
  "nbformat_minor": 0,
  "metadata": {
    "colab": {
      "provenance": []
    },
    "kernelspec": {
      "name": "python3",
      "display_name": "Python 3"
    },
    "language_info": {
      "name": "python"
    },
    "accelerator": "GPU"
  },
  "cells": [
    {
      "cell_type": "markdown",
      "metadata": {
        "id": "JXGg_u2EsE9a"
      },
      "source": [
        "## Задание Pro\n"
      ]
    },
    {
      "cell_type": "markdown",
      "metadata": {
        "id": "NPLsuuRFbZwQ"
      },
      "source": [
        "\n",
        "1. Выберите 10 самых красивых по вашем мнению пятерок в тренировочной выборке mnist.\n",
        "2. Создайте датасет, где объекты – это все пятерки из тренировочной части mnist, а метки – это случайные пятерки из \"красивого\" набора.\n",
        "3. Создайте автокодировщик и проверьте, совпадают ли у него размеры выхода и входа.\n",
        "4. Обучите автокодировщик.\n",
        "5. Добейтесь ошибки MSE на тренировочной выборке **<0.05**.\n",
        "6. Посмотрите, как выглядят пятерки из тестовой выборки после обученного автокодировщика."
      ]
    },
    {
      "cell_type": "markdown",
      "metadata": {
        "id": "OGx0QFZt-m52"
      },
      "source": [
        "## Импорт библиотек"
      ]
    },
    {
      "cell_type": "code",
      "metadata": {
        "id": "6HXNNWhjQRLe"
      },
      "source": [
        "# Для операций с тензорами\n",
        "import numpy as np\n",
        "\n",
        "# Для отрисвоки\n",
        "import matplotlib.pyplot as plt\n",
        "\n",
        "# Для создания модели\n",
        "from tensorflow.keras.models import Model\n",
        "\n",
        "# Необходимые слои\n",
        "from tensorflow.keras.layers import Input, Conv2DTranspose, MaxPooling2D, Conv2D, BatchNormalization\n",
        "\n",
        "# Слои для латентного пространства модели\n",
        "from tensorflow.keras.layers import Flatten, Reshape, Dense\n",
        "\n",
        "# Оптимизатор\n",
        "from tensorflow.keras.optimizers import Adam\n",
        "\n",
        "# Для загрузки базы\n",
        "from tensorflow.keras.datasets import mnist"
      ],
      "execution_count": null,
      "outputs": []
    },
    {
      "cell_type": "markdown",
      "metadata": {
        "id": "MSw2wvYz-pto"
      },
      "source": [
        "## Загрузка данных"
      ]
    },
    {
      "cell_type": "code",
      "metadata": {
        "id": "SOTmvLZk-rWS",
        "colab": {
          "base_uri": "https://localhost:8080/"
        },
        "outputId": "58b16136-897d-4219-82d9-7e1249d96c08"
      },
      "source": [
        "# Загрузка датасета\n",
        "(X_train, y_train), (X_test, y_test) = mnist.load_data()"
      ],
      "execution_count": null,
      "outputs": [
        {
          "output_type": "stream",
          "name": "stdout",
          "text": [
            "Downloading data from https://storage.googleapis.com/tensorflow/tf-keras-datasets/mnist.npz\n",
            "11493376/11490434 [==============================] - 0s 0us/step\n",
            "11501568/11490434 [==============================] - 0s 0us/step\n"
          ]
        }
      ]
    },
    {
      "cell_type": "code",
      "metadata": {
        "id": "q27FmSrL-tAR"
      },
      "source": [
        "# Нормализация данных\n",
        "X_train = X_train.astype('float32')/255.\n",
        "X_test = X_test.astype('float32')/255."
      ],
      "execution_count": null,
      "outputs": []
    },
    {
      "cell_type": "code",
      "metadata": {
        "id": "gwheKwpp-uOh"
      },
      "source": [
        "# Приведение формы к удобной для Keras\n",
        "X_train = X_train.reshape(-1, 28, 28, 1)\n",
        "X_test = X_test.reshape(-1, 28, 28, 1)"
      ],
      "execution_count": null,
      "outputs": []
    },
    {
      "cell_type": "code",
      "metadata": {
        "id": "rBZ_DZGF-x51"
      },
      "source": [
        "# Отбор пятерок\n",
        "mask = y_train == 5\n",
        "X_train = X_train[mask]\n",
        "y_train = y_train[mask]"
      ],
      "execution_count": null,
      "outputs": []
    },
    {
      "cell_type": "code",
      "metadata": {
        "id": "GhQmeYgQ-zY-"
      },
      "source": [
        "# Аналогично для тестирования\n",
        "mask = y_test == 5\n",
        "X_test = X_test[mask]\n",
        "y_test = y_test[mask]"
      ],
      "execution_count": null,
      "outputs": []
    },
    {
      "cell_type": "markdown",
      "metadata": {
        "id": "1J8x8vEH-4F1"
      },
      "source": [
        "## Отбор красивых пятерок"
      ]
    },
    {
      "cell_type": "code",
      "metadata": {
        "id": "rs3sipp8-4zk"
      },
      "source": [
        "# Ваше решение"
      ],
      "execution_count": null,
      "outputs": []
    }
  ]
}